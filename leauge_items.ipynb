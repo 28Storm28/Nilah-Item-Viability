{
 "cells": [
  {
   "cell_type": "code",
   "execution_count": 90,
   "outputs": [],
   "source": [
    "import json"
   ],
   "metadata": {
    "collapsed": false,
    "ExecuteTime": {
     "end_time": "2023-06-09T17:27:45.238943800Z",
     "start_time": "2023-06-09T17:27:45.231789100Z"
    }
   }
  },
  {
   "cell_type": "markdown",
   "source": [
    "Load json file into memory"
   ],
   "metadata": {
    "collapsed": false
   }
  },
  {
   "cell_type": "code",
   "execution_count": 91,
   "outputs": [],
   "source": [
    "with open('output.json', 'r') as json_file:\n",
    "    json_data = json.load(json_file)"
   ],
   "metadata": {
    "collapsed": false,
    "ExecuteTime": {
     "end_time": "2023-06-09T17:27:46.726535100Z",
     "start_time": "2023-06-09T17:27:46.715813700Z"
    }
   }
  },
  {
   "cell_type": "markdown",
   "source": [
    "Load all the ad items into lists in order to display them graphically"
   ],
   "metadata": {
    "collapsed": false
   }
  },
  {
   "cell_type": "code",
   "execution_count": 134,
   "outputs": [],
   "source": [
    "class item:\n",
    "    def __init__(self,lethality,crit,ad,stats,name, score, gold_score, price):\n",
    "        self.lethality = lethality\n",
    "        self.crit = crit\n",
    "        self.ad = ad\n",
    "        self.stats = stats\n",
    "        self.name = name\n",
    "        self.score = score\n",
    "        self.gold_score = gold_score\n",
    "        self.price = price\n",
    "\n",
    "def create_item_score(crit,ad,lethality, gold):\n",
    "    total_leth = (crit * 0.33) + lethality + ad\n",
    "    return total_leth, total_leth/gold"
   ],
   "metadata": {
    "collapsed": false,
    "ExecuteTime": {
     "end_time": "2023-06-09T18:12:16.574294100Z",
     "start_time": "2023-06-09T18:12:16.551188100Z"
    }
   }
  },
  {
   "cell_type": "markdown",
   "source": [],
   "metadata": {
    "collapsed": false
   }
  },
  {
   "cell_type": "code",
   "execution_count": 135,
   "outputs": [
    {
     "name": "stdout",
     "output_type": "stream",
     "text": [
      "Score: 4.95 Gold Score: 0.005 \n",
      "\n",
      "Score: 78.0 Gold Score: 0.025 \n",
      "\n",
      "Score: 6.6000000000000005 Gold Score: 0.002 \n",
      "\n",
      "Score: 41.6 Gold Score: 0.014 \n",
      "\n",
      "Score: 60.0 Gold Score: 0.026 \n",
      "\n",
      "Score: 79.6 Gold Score: 0.027 \n",
      "\n",
      "Score: 56.6 Gold Score: 0.019 \n",
      "\n",
      "Score: 61.6 Gold Score: 0.021 \n",
      "\n",
      "Score: 72.0 Gold Score: 0.023 \n",
      "\n",
      "Score: 67.0 Gold Score: 0.026 \n",
      "\n",
      "Score: 61.6 Gold Score: 0.019 \n",
      "\n",
      "Score: 71.6 Gold Score: 0.021 \n",
      "\n",
      "Score: 73.0 Gold Score: 0.024 \n",
      "\n",
      "Score: 36.6 Gold Score: 0.012 \n",
      "\n",
      "Score: 70.0 Gold Score: 0.023 \n",
      "\n",
      "Score: 26.6 Gold Score: 0.009 \n",
      "\n",
      "Score: 4.95 Gold Score: 0.008 \n",
      "\n",
      "Score: 46.6 Gold Score: 0.016 \n",
      "\n",
      "Score: 56.6 Gold Score: 0.019 \n",
      "\n",
      "Score: 46.6 Gold Score: 0.016 \n",
      "\n",
      "Score: 46.6 Gold Score: 0.016 \n",
      "\n",
      "Score: 76.6 Gold Score: 0.023 \n",
      "\n",
      "Score: 61.6 Gold Score: 0.018 \n",
      "\n",
      "Score: 78.0 Gold Score: 0.025 \n",
      "\n",
      "Score: 51.6 Gold Score: 0.017 \n",
      "\n",
      "Score: 60.0 Gold Score: 0.021 \n",
      "\n"
     ]
    }
   ],
   "source": [
    "# Iterate over the list of item\n",
    "items = []\n",
    "for item_name, item_data in json_data.items():\n",
    "    # Access the stats for each item\n",
    "    stats = item_data.get('stats')\n",
    "    ornn = item_data.get('ornn')\n",
    "    gold = item_data.get('buy')\n",
    "    # Check if the item has stats and if it contains 'crit' or 'lethality'\n",
    "    if stats and any(key in stats for key in ['crit', 'lethality'] ) and ornn == None:\n",
    "        lethality = 0\n",
    "        crit = 0\n",
    "        ad= 0\n",
    "        # Print the stats for the current item\n",
    "        for stat_name, stat_value in stats.items():\n",
    "            if(stat_name == \"lethality\"):\n",
    "                lethality = stat_value\n",
    "            if(stat_name == \"crit\"):\n",
    "                crit = stat_value\n",
    "            if(stat_name == \"ad\"):\n",
    "                ad = stat_value\n",
    "\n",
    "        var1,var2 = create_item_score(crit,ad,lethality,gold)\n",
    "        var2 = round(var2,3)\n",
    "        new_entry = item(lethality,crit,ad,stats,item_name,var1,var2, gold)\n",
    "        items.append(new_entry)\n",
    "        print(f\"Score: {var1} Gold Score: {var2} \")\n",
    "        print()\n",
    "\n",
    "sorted_items_by_score = sorted(items, key=lambda x: x.score, reverse=True)\n",
    "sorted_items_by_gold_score = sorted(items, key=lambda x: x.gold_score, reverse=True)"
   ],
   "metadata": {
    "collapsed": false,
    "ExecuteTime": {
     "end_time": "2023-06-09T18:12:17.806488Z",
     "start_time": "2023-06-09T18:12:17.799503600Z"
    }
   }
  },
  {
   "cell_type": "markdown",
   "source": [
    "Display all ad items graphically"
   ],
   "metadata": {
    "collapsed": false
   }
  },
  {
   "cell_type": "code",
   "execution_count": 123,
   "outputs": [],
   "source": [
    "def print_stats(stats):\n",
    "    print(f\"stats: \")\n",
    "    for stat_name, stat_value in stats.items():\n",
    "        print(f\"{stat_name}: {stat_value}\")\n",
    "\n",
    "def print_item(item):\n",
    "    print(item.name + '')\n",
    "    print(f\"item score: {item.score}\")\n",
    "    print(f\"item gold score: {item.gold_score}\")\n",
    "    print_stats(item.stats)\n",
    "    print(\"\\n\")\n"
   ],
   "metadata": {
    "collapsed": false,
    "ExecuteTime": {
     "end_time": "2023-06-09T18:04:28.975356Z",
     "start_time": "2023-06-09T18:04:28.968371100Z"
    }
   }
  },
  {
   "cell_type": "markdown",
   "source": [
    "Get all items that give crit or armor pen"
   ],
   "metadata": {
    "collapsed": false
   }
  },
  {
   "cell_type": "code",
   "execution_count": 136,
   "outputs": [
    {
     "name": "stdout",
     "output_type": "stream",
     "text": [
      "The Collector, score: 79.6, gold score 0.027, price 3000\n",
      "Umbral Glaive, score: 60.0, gold score 0.026, price 2300\n",
      "Serpent's Fang, score: 67.0, gold score 0.026, price 2600\n",
      "Youmuu's Ghostblade, score: 78.0, gold score 0.025, price 3100\n",
      "Duskblade of Draktharr, score: 78.0, gold score 0.025, price 3100\n",
      "Axiom Arc, score: 73.0, gold score 0.024, price 3000\n",
      "Eclipse, score: 72.0, gold score 0.023, price 3100\n",
      "Prowler's Claw, score: 70.0, gold score 0.023, price 3000\n",
      "Infinity Edge, score: 76.6, gold score 0.023, price 3400\n",
      "Essence Reaver, score: 61.6, gold score 0.021, price 2900\n",
      "Navori Quickblades, score: 71.6, gold score 0.021, price 3400\n",
      "Edge of Night, score: 60.0, gold score 0.021, price 2900\n",
      "Stormrazor, score: 56.6, gold score 0.019, price 3000\n",
      "Bloodthirster, score: 61.6, gold score 0.019, price 3200\n",
      "Immortal Shieldbow, score: 56.6, gold score 0.019, price 3000\n",
      "Galeforce, score: 61.6, gold score 0.018, price 3400\n",
      "Statikk Shiv, score: 51.6, gold score 0.017, price 3000\n",
      "Mortal Reminder, score: 46.6, gold score 0.016, price 3000\n",
      "Mercurial Scimitar, score: 46.6, gold score 0.016, price 3000\n",
      "Kraken Slayer, score: 46.6, gold score 0.016, price 3000\n",
      "Lord Dominik's Regards, score: 41.6, gold score 0.014, price 3000\n",
      "Rapid Firecannon, score: 36.6, gold score 0.012, price 3000\n",
      "Phantom Dancer, score: 26.6, gold score 0.009, price 2800\n",
      "Cloak of Agility, score: 4.95, gold score 0.008, price 600\n",
      "Zeal, score: 4.95, gold score 0.005, price 1100\n",
      "Runaan's Hurricane, score: 6.6000000000000005, gold score 0.002, price 2800\n"
     ]
    }
   ],
   "source": [
    "for item in sorted_items_by_gold_score:\n",
    "    print(f\"{item.name}, score: {item.score}, gold score {item.gold_score}, price {item.price}\")"
   ],
   "metadata": {
    "collapsed": false,
    "ExecuteTime": {
     "end_time": "2023-06-09T18:12:20.359368500Z",
     "start_time": "2023-06-09T18:12:20.332792800Z"
    }
   }
  }
 ],
 "metadata": {
  "kernelspec": {
   "display_name": "Python 3",
   "language": "python",
   "name": "python3"
  },
  "language_info": {
   "codemirror_mode": {
    "name": "ipython",
    "version": 2
   },
   "file_extension": ".py",
   "mimetype": "text/x-python",
   "name": "python",
   "nbconvert_exporter": "python",
   "pygments_lexer": "ipython2",
   "version": "2.7.6"
  }
 },
 "nbformat": 4,
 "nbformat_minor": 0
}
